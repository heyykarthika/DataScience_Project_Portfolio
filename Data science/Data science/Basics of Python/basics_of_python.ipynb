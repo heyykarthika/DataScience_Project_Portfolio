{
 "cells": [
  {
   "cell_type": "markdown",
   "id": "3da40760",
   "metadata": {},
   "source": [
    "# Python Programming Assignment"
   ]
  },
  {
   "cell_type": "markdown",
   "id": "87a6b7c1",
   "metadata": {},
   "source": [
    "### Coding Exercises"
   ]
  },
  {
   "cell_type": "markdown",
   "id": "46cffe74",
   "metadata": {},
   "source": [
    "**Exercise 1: Prime Numbers**\n",
    "\n",
    "*Write a Python program that checks whether a given number is prime or not. A prime number is a natural number greater than 1 that has no positive divisors other than 1 and itself.*"
   ]
  },
  {
   "cell_type": "code",
   "execution_count": null,
   "id": "fc04bc6d",
   "metadata": {},
   "outputs": [
    {
     "name": "stdout",
     "output_type": "stream",
     "text": [
      "Prime\n"
     ]
    }
   ],
   "source": [
    "a=int(input(\"Enter a number: \"))\n",
    "for i in range(2,a): \n",
    "    if a%i==0:\n",
    "        print(\"Not prime\")\n",
    "        break\n",
    "    else:\n",
    "        print(\"Prime\")\n",
    "        break"
   ]
  },
  {
   "cell_type": "markdown",
   "id": "1a89c14b",
   "metadata": {},
   "source": [
    "**Exercise 2: Product of Random Numbers**\n",
    "\n",
    "*Develop a Python program that generates two random numbers and asks the user to enter the product of these numbers. The program should then check if the user's answer is correct and display an appropriate message.*"
   ]
  },
  {
   "cell_type": "code",
   "execution_count": null,
   "id": "95cd5bb2",
   "metadata": {},
   "outputs": [
    {
     "name": "stdout",
     "output_type": "stream",
     "text": [
      "Incorrect\n",
      "The correct answer is 25\n"
     ]
    }
   ],
   "source": [
    "import random # Random number generation\n",
    "a,b=random.randint(1,10),random.randint(1,10)  \n",
    "product=a*b \n",
    "x=int(input(f\"What is {a} * {b} ? \"))\n",
    "if x==product:\n",
    "    print(\"Correct\")\n",
    "else:\n",
    "    print(\"Incorrect\")\n",
    "    print(f\"The correct answer is {product}\")"
   ]
  },
  {
   "cell_type": "markdown",
   "id": "664bf91e",
   "metadata": {},
   "source": [
    "**Exercise 3: Squares of Even/Odd Numbers**\n",
    "\n",
    "*Create a Python script that prints the squares of all even or odd numbers within the range of 100 to 200. Choose either even or odd numbers and document your choice in the code.*"
   ]
  },
  {
   "cell_type": "code",
   "execution_count": 43,
   "id": "a8ba414b",
   "metadata": {},
   "outputs": [
    {
     "name": "stdout",
     "output_type": "stream",
     "text": [
      "The Squares of odd numbers between 100 and 200 is: \n",
      "\n",
      "10201\n",
      "10609\n",
      "11025\n",
      "11449\n",
      "11881\n",
      "12321\n",
      "12769\n",
      "13225\n",
      "13689\n",
      "14161\n",
      "14641\n",
      "15129\n",
      "15625\n",
      "16129\n",
      "16641\n",
      "17161\n",
      "17689\n",
      "18225\n",
      "18769\n",
      "19321\n",
      "19881\n",
      "20449\n",
      "21025\n",
      "21609\n",
      "22201\n",
      "22801\n",
      "23409\n",
      "24025\n",
      "24649\n",
      "25281\n",
      "25921\n",
      "26569\n",
      "27225\n",
      "27889\n",
      "28561\n",
      "29241\n",
      "29929\n",
      "30625\n",
      "31329\n",
      "32041\n",
      "32761\n",
      "33489\n",
      "34225\n",
      "34969\n",
      "35721\n",
      "36481\n",
      "37249\n",
      "38025\n",
      "38809\n",
      "39601\n"
     ]
    }
   ],
   "source": [
    "def squares_of_numbers():\n",
    "    choice=input(\"Choose either even or odd numbers: \") #taking input from user\n",
    "    choice=choice.lower()   #converting to lower case\n",
    "    print(f\"The Squares of {choice} numbers between 100 and 200 is: \\n\")      #printing the squares of numbers between 100 and 200\n",
    "    for i in range(100,200): #iterating through the range of numbers\n",
    "        if (choice==\"even\"): \n",
    "            if i%2==0:\n",
    "                print(i*i) \n",
    "        elif (choice==\"odd\"):\n",
    "            if i%2!=0:\n",
    "                print(i*i)\n",
    "squares_of_numbers()"
   ]
  },
  {
   "cell_type": "markdown",
   "id": "f66d4bda",
   "metadata": {},
   "source": [
    "**Exercise 4: Word counter**\n",
    "\n",
    "*write a program to count the number of words in a given text.\n",
    "example:\n",
    "input_text = \"This is a sample text. This text will be used to demonstrate the word counter.\"\n",
    "Expected output:\n",
    "'This': 2 \n",
    "'is': 1\n",
    "'a': 1\n",
    "'sample': 1\n",
    "'text.': 1*"
   ]
  },
  {
   "cell_type": "code",
   "execution_count": null,
   "id": "010f163d",
   "metadata": {},
   "outputs": [
    {
     "name": "stdout",
     "output_type": "stream",
     "text": [
      "'This': 2\n",
      "'is': 1\n",
      "'a': 1\n",
      "'sample': 1\n",
      "'text.': 1\n",
      "'text': 1\n",
      "'will': 1\n",
      "'be': 1\n",
      "'used': 1\n",
      "'to': 1\n",
      "'demonstrate': 1\n",
      "'the': 1\n",
      "'word': 1\n",
      "'counter.': 1\n"
     ]
    }
   ],
   "source": [
    "def word_count():\n",
    "    text=input(\"Enter a text: \") #taking input from user\n",
    "    text=text.lower() #converting to lower case\n",
    "    words=text.split()   #splitting the text into words\n",
    "    word_count = {}    #creating an empty dictionary to store word count\n",
    "    for word in words: #iterating through each word in the list\n",
    "        word_count[word] = word_count.get(word, 0) + 1 #updating the count of each word in the dictionary\n",
    "    for word, count in word_count.items(): #iterating through the dictionary to print the word and its count\n",
    "        print(f\"'{word}': {count}\")   #printing the word and its count\n",
    "word_count()"
   ]
  },
  {
   "cell_type": "markdown",
   "id": "f32de7c1",
   "metadata": {},
   "source": [
    "**Exercise 5: Check for Palindrome**\n",
    "\n",
    "*Write a Python function called is_palindrome that takes a string as input and returns True if the string is a palindrome, and False otherwise. A palindrome is a word, phrase, number, or other sequence of characters that reads the same forward and backward, ignoring spaces, punctuation, and capitalization.\n",
    "Example:\n",
    "Input: \"racecar\"\n",
    "Expected Output: True*"
   ]
  },
  {
   "cell_type": "code",
   "execution_count": 42,
   "id": "437a5f2d",
   "metadata": {},
   "outputs": [
    {
     "name": "stdout",
     "output_type": "stream",
     "text": [
      "Palindrome\n"
     ]
    }
   ],
   "source": [
    "def is_palindrome():\n",
    "    text = input(\"Enter a string: \")\n",
    "    \n",
    "    # Convert the string to lowercase to make the check case-insensitive\n",
    "    text = text.lower()\n",
    "\n",
    "    # Loop through the first half of the string and compare with the second half\n",
    "    for i in range(len(text) // 2):\n",
    "        if text[i] != text[len(text) - 1 - i]:\n",
    "            print(\"Not palindrome\")\n",
    "            return  # Exit the function early if it's not a palindrome\n",
    "    print(\"Palindrome\")\n",
    "\n",
    "is_palindrome()\n"
   ]
  }
 ],
 "metadata": {
  "kernelspec": {
   "display_name": "Python 3",
   "language": "python",
   "name": "python3"
  },
  "language_info": {
   "codemirror_mode": {
    "name": "ipython",
    "version": 3
   },
   "file_extension": ".py",
   "mimetype": "text/x-python",
   "name": "python",
   "nbconvert_exporter": "python",
   "pygments_lexer": "ipython3",
   "version": "3.11.2"
  }
 },
 "nbformat": 4,
 "nbformat_minor": 5
}
