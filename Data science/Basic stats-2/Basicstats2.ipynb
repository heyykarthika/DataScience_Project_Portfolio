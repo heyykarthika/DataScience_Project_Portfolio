{
 "cells": [
  {
   "cell_type": "markdown",
   "id": "a3b58c75",
   "metadata": {},
   "source": [
    "**Background**\n",
    "\n",
    "In quality control processes, especially when dealing with high-value items, destructive sampling is a necessary but costly method to ensure product quality. The test to determine whether an item meets the quality standards destroys the item, leading to the requirement of small sample sizes due to cost constraints.\n"
   ]
  },
  {
   "cell_type": "markdown",
   "id": "2b186b36",
   "metadata": {},
   "source": [
    "**Scenario**\n",
    "\n",
    "A manufacturer of print-heads for personal computers is interested in estimating the mean durability of their print-heads in terms of the number of characters printed before failure. To assess this, the manufacturer conducts a study on a small sample of print-heads due to the destructive nature of the testing process."
   ]
  },
  {
   "cell_type": "markdown",
   "id": "7f464ae9",
   "metadata": {},
   "source": [
    "**Data**\n",
    "\n",
    "A total of 15 print-heads were randomly selected and tested until failure. The durability of each print-head (in millions of characters) was recorded as follows:\n",
    "1.13, 1.55, 1.43, 0.92, 1.25, 1.36, 1.32, 0.85, 1.07, 1.48, 1.20, 1.33, 1.18, 1.22, 1.29"
   ]
  },
  {
   "cell_type": "code",
   "execution_count": 1,
   "id": "53fcfd9d",
   "metadata": {},
   "outputs": [],
   "source": [
    "import numpy as np\n",
    "import scipy.stats as st"
   ]
  },
  {
   "cell_type": "code",
   "execution_count": 4,
   "id": "b12a78e8",
   "metadata": {},
   "outputs": [],
   "source": [
    "data=np.array([1.13, 1.55, 1.43, 0.92, 1.25, 1.36, 1.32, 0.85, 1.07, 1.48, 1.20, 1.33, 1.18, 1.22, 1.29])"
   ]
  },
  {
   "cell_type": "code",
   "execution_count": 6,
   "id": "04872af1",
   "metadata": {},
   "outputs": [],
   "source": [
    "mean=np.mean(data)\n",
    "std=np.std(data)"
   ]
  },
  {
   "cell_type": "code",
   "execution_count": 7,
   "id": "0691983b",
   "metadata": {},
   "outputs": [
    {
     "name": "stdout",
     "output_type": "stream",
     "text": [
      "Mean: 1.2386666666666666\n",
      "Standard Deviation: 0.18661427836285438\n"
     ]
    }
   ],
   "source": [
    "print(\"Mean:\", mean)\n",
    "print(\"Standard Deviation:\", std)"
   ]
  },
  {
   "cell_type": "markdown",
   "id": "2fafcbfb",
   "metadata": {},
   "source": [
    "**Assignment Tasks**\n",
    "\n",
    "a. Build 99% Confidence Interval Using Sample Standard Deviation\n",
    "Assuming the sample is representative of the population, construct a 99% confidence interval for the mean number of characters printed before the print-head fails using the sample standard deviation. Explain the steps you take and the rationale behind using the t-distribution for this task."
   ]
  },
  {
   "cell_type": "markdown",
   "id": "a4f50cb1",
   "metadata": {},
   "source": [
    "Mean: 1.2386666666666666\n",
    "\n",
    "Standard Deviation: 0.18661427836285438\n",
    "\n",
    "CL : 0.99\n",
    "\n",
    "n=15\n",
    "\n",
    "df (degree of freedom) = n-1 = 15-1 =14\n",
    "\n",
    "We will use t-method"
   ]
  },
  {
   "cell_type": "code",
   "execution_count": 12,
   "id": "cdea41b3",
   "metadata": {},
   "outputs": [
    {
     "data": {
      "text/plain": [
       "(1.1359657554425353, 1.3413675778907979)"
      ]
     },
     "execution_count": 12,
     "metadata": {},
     "output_type": "execute_result"
    }
   ],
   "source": [
    "st.t.interval(0.95,15,loc=mean,scale=std/np.sqrt(15))"
   ]
  },
  {
   "cell_type": "markdown",
   "id": "de7ae533",
   "metadata": {},
   "source": [
    "b. Build 99% Confidence Interval Using Known Population Standard Deviation\n",
    "\n",
    "If it were known that the population standard deviation is 0.2 million characters, construct a 99% confidence interval for the mean number of characters printed before failure."
   ]
  },
  {
   "cell_type": "markdown",
   "id": "43056dca",
   "metadata": {},
   "source": [
    "Mean: 1.2386666666666666\n",
    "\n",
    "Standard Deviation: 0.2 (given)\n",
    "\n",
    "CL : 0.99\n",
    "\n",
    "n=15\n",
    "\n",
    "We will use z-method since standard deviation is known"
   ]
  },
  {
   "cell_type": "code",
   "execution_count": 14,
   "id": "9304439b",
   "metadata": {},
   "outputs": [
    {
     "data": {
      "text/plain": [
       "(1.1056514133957607, 1.3716819199375725)"
      ]
     },
     "execution_count": 14,
     "metadata": {},
     "output_type": "execute_result"
    }
   ],
   "source": [
    "st.norm.interval(0.99,mean,0.2/np.sqrt(15))"
   ]
  }
 ],
 "metadata": {
  "kernelspec": {
   "display_name": "Python 3",
   "language": "python",
   "name": "python3"
  },
  "language_info": {
   "codemirror_mode": {
    "name": "ipython",
    "version": 3
   },
   "file_extension": ".py",
   "mimetype": "text/x-python",
   "name": "python",
   "nbconvert_exporter": "python",
   "pygments_lexer": "ipython3",
   "version": "3.11.2"
  }
 },
 "nbformat": 4,
 "nbformat_minor": 5
}
