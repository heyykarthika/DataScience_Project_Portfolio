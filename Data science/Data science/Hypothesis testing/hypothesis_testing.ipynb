{
 "cells": [
  {
   "cell_type": "markdown",
   "id": "83cea3c1",
   "metadata": {},
   "source": [
    "# Hypothesis Testing\n",
    "\n",
    "## Step 1: Hypotheses Statement\n",
    "- **Null Hypothesis (H₀):** The weekly operating cost is accurate based on the model.  \n",
    "- **Alternative Hypothesis (H₁):** The weekly operating cost is higher than the model suggests.\n",
    "\n",
    "The model predicts the cost as:  \n",
    "**W = 1000 + 5X**  \n",
    "\n",
    "For **X = 600**, the expected weekly cost is:  \n",
    "**W = 1000 + 5(600) = 4000**\n"
   ]
  },
  {
   "cell_type": "markdown",
   "id": "1429bc74",
   "metadata": {},
   "source": [
    "## Step 2: Calculate the Test Statistic\n",
    "We use the formula:  \n",
    "**t = (x̄ - μ) / (σ / √n)**  \n",
    "\n",
    "Where:  \n",
    "- x̄ = 3050 (Sample mean)  \n",
    "- μ = 4000 (Theoretical mean)  \n",
    "- σ = 125 (5 × 25 as given)  \n",
    "- n = 25 (Sample size)  \n"
   ]
  },
  {
   "cell_type": "code",
   "execution_count": 2,
   "id": "f7a915b9",
   "metadata": {},
   "outputs": [
    {
     "name": "stdout",
     "output_type": "stream",
     "text": [
      "Test Statistic (t): -38.0\n"
     ]
    }
   ],
   "source": [
    "# Step 1 & 2: Define the values and calculate the test statistic\n",
    "sample_mean = 3050        # Sample mean\n",
    "theoretical_mean = 4000   # Theoretical mean\n",
    "std_dev = 5 * 25          # Standard deviation\n",
    "n = 25                    # Sample size\n",
    "\n",
    "# Calculate the test statistic (t)\n",
    "t_statistic = (sample_mean - theoretical_mean) / (std_dev / (n ** 0.5))\n",
    "\n",
    "# Display the test statistic\n",
    "print(\"Test Statistic (t):\", t_statistic)"
   ]
  },
  {
   "cell_type": "markdown",
   "id": "9badea19",
   "metadata": {},
   "source": [
    "## Step 3: Determine the Critical Value\n",
    "\n",
    "Since this is a one-tailed test with significance level \\(\\alpha = 0.05\\),  \n",
    "we look up the critical value \\(z_{\\alpha}\\) from the standard normal distribution table.\n",
    "\n",
    "For \\(\\alpha = 0.05\\), the critical value is:  \n",
    "**z = 1.645**\n"
   ]
  },
  {
   "cell_type": "code",
   "execution_count": 3,
   "id": "a0d549b0",
   "metadata": {},
   "outputs": [
    {
     "name": "stdout",
     "output_type": "stream",
     "text": [
      "Critical value (z) at alpha=0.05: 1.6448536269514722\n"
     ]
    }
   ],
   "source": [
    "import scipy.stats as stats\n",
    "\n",
    "# Significance level\n",
    "alpha = 0.05\n",
    "\n",
    "# Critical value for one-tailed test (right tail)\n",
    "critical_value = stats.norm.ppf(1 - alpha)\n",
    "\n",
    "print(\"Critical value (z) at alpha=0.05:\", critical_value)"
   ]
  },
  {
   "cell_type": "markdown",
   "id": "136df8cc",
   "metadata": {},
   "source": [
    "## Step 4: Make a Decision\n",
    "\n",
    "To make a decision, we compare the **Test Statistic (t)** with the **Critical Value (z)**:\n",
    "\n",
    "- Test Statistic (t) = **-38.0**  \n",
    "- Critical Value (z) = **1.645**  \n",
    "\n",
    "### Decision Rule:\n",
    "- If **t < -1.645** or **t > 1.645**, we **reject the null hypothesis (H₀)**.  \n",
    "- If **t** is between **-1.645** and **1.645**, we **fail to reject the null hypothesis**.  \n",
    "\n",
    "Since **-38.0** is far less than **-1.645**, we **reject the null hypothesis**.\n"
   ]
  },
  {
   "cell_type": "code",
   "execution_count": 4,
   "id": "cbf0b0c3",
   "metadata": {},
   "outputs": [
    {
     "name": "stdout",
     "output_type": "stream",
     "text": [
      "Decision: Reject the null hypothesis (H₀).\n"
     ]
    }
   ],
   "source": [
    "# Step 4: Make a decision\n",
    "if t_statistic < -critical_value or t_statistic > critical_value:\n",
    "    print(\"Decision: Reject the null hypothesis (H₀).\")\n",
    "else:\n",
    "    print(\"Decision: Fail to reject the null hypothesis (H₀).\")\n"
   ]
  },
  {
   "cell_type": "markdown",
   "id": "1d132a79",
   "metadata": {},
   "source": [
    "## Step 5: Conclusion\n",
    "\n",
    "Based on our hypothesis test:\n",
    "- The calculated **test statistic (t)** was **-38.0**, which is far beyond the critical value of **1.645** for a one-tailed test at a **5% significance level**.\n",
    "- This means there is **strong evidence** to **reject the null hypothesis (H₀)**.\n",
    "\n",
    "### **Conclusion:**  \n",
    "We conclude that the weekly operating costs for the franchises are indeed **higher** than what the theoretical cost model suggests, supporting the restaurant owners' claims."
   ]
  }
 ],
 "metadata": {
  "kernelspec": {
   "display_name": "Python 3",
   "language": "python",
   "name": "python3"
  },
  "language_info": {
   "codemirror_mode": {
    "name": "ipython",
    "version": 3
   },
   "file_extension": ".py",
   "mimetype": "text/x-python",
   "name": "python",
   "nbconvert_exporter": "python",
   "pygments_lexer": "ipython3",
   "version": "3.13.3"
  }
 },
 "nbformat": 4,
 "nbformat_minor": 5
}
