{
 "cells": [
  {
   "cell_type": "markdown",
   "id": "edb00b5d",
   "metadata": {},
   "source": [
    "## Step 1: State the Hypotheses\n",
    "\n",
    "- **Null Hypothesis (H0):** There is no significant association between the type of smart home device purchased (Smart Thermostat vs. Smart Light) and the customer satisfaction level.\n",
    "- **Alternative Hypothesis (H1):** There is a significant association between the type of smart home device purchased and the customer satisfaction level.\n"
   ]
  },
  {
   "cell_type": "code",
   "execution_count": 1,
   "id": "1b89c56e",
   "metadata": {},
   "outputs": [
    {
     "name": "stdout",
     "output_type": "stream",
     "text": [
      "Step 1: State the Hypotheses\n",
      "Null Hypothesis (H0): There is no significant association between the device type and satisfaction level.\n",
      "Alternative Hypothesis (H1): There is a significant association between the device type and satisfaction level.\n"
     ]
    }
   ],
   "source": [
    "# Step 1: State the Hypotheses\n",
    "print(\"Step 1: State the Hypotheses\")\n",
    "print(\"Null Hypothesis (H0): There is no significant association between the device type and satisfaction level.\")\n",
    "print(\"Alternative Hypothesis (H1): There is a significant association between the device type and satisfaction level.\")"
   ]
  },
  {
   "cell_type": "markdown",
   "id": "ede54bfe",
   "metadata": {},
   "source": [
    "## Step 2: Compute the Chi-Square Statistic\n",
    "\n",
    "To compute the Chi-Square statistic, we follow these steps:\n",
    "1. **Contingency Table Setup:** Represent the observed frequencies in a table format.\n",
    "2. **Calculate Expected Frequencies:** For each cell, the expected frequency is calculated as:\n",
    "   \\[\n",
    "   E_{ij} = \\frac{(\\text{Row Total}) \\times (\\text{Column Total})}{\\text{Grand Total}}\n",
    "   \\]\n",
    "3. **Chi-Square Formula:** Apply the formula:\n",
    "   \\[\n",
    "   \\chi^2 = \\sum \\frac{(O_i - E_i)^2}{E_i}\n",
    "   \\]\n",
    "   where:\n",
    "   - \\(O_i\\) = Observed frequency  \n",
    "   - \\(E_i\\) = Expected frequency  \n",
    "4. **Interpret the values:** Display the calculated Chi-Square statistic, p-value, degrees of freedom, and expected frequencies.\n"
   ]
  },
  {
   "cell_type": "code",
   "execution_count": 2,
   "id": "ab2efa4a",
   "metadata": {},
   "outputs": [
    {
     "name": "stdout",
     "output_type": "stream",
     "text": [
      "Contingency Table:\n",
      "                  Smart Thermostat  Smart Light\n",
      "Very Satisfied                  50           70\n",
      "Satisfied                       80          100\n",
      "Neutral                         60           90\n",
      "Unsatisfied                     30           50\n",
      "Very Unsatisfied                20           50\n",
      "\n",
      "Chi-Square Statistic: 5.638227513227513\n",
      "p-value: 0.22784371130697179\n",
      "Degrees of Freedom: 4\n",
      "\n",
      "Expected Frequencies:\n",
      "                  Smart Thermostat  Smart Light\n",
      "Very Satisfied                48.0         72.0\n",
      "Satisfied                     72.0        108.0\n",
      "Neutral                       60.0         90.0\n",
      "Unsatisfied                   32.0         48.0\n",
      "Very Unsatisfied              28.0         42.0\n",
      "\n",
      "Critical Value at 0.05 significance level: 9.487729036781154\n"
     ]
    },
    {
     "ename": "TypeError",
     "evalue": "'<' not supported between instances of 'float' and 'chi2_gen'",
     "output_type": "error",
     "traceback": [
      "\u001b[31m---------------------------------------------------------------------------\u001b[39m",
      "\u001b[31mTypeError\u001b[39m                                 Traceback (most recent call last)",
      "\u001b[36mCell\u001b[39m\u001b[36m \u001b[39m\u001b[32mIn[2]\u001b[39m\u001b[32m, line 36\u001b[39m\n\u001b[32m     33\u001b[39m \u001b[38;5;28mprint\u001b[39m(\u001b[33m'\u001b[39m\u001b[38;5;130;01m\\n\u001b[39;00m\u001b[33mCritical Value at 0.05 significance level:\u001b[39m\u001b[33m'\u001b[39m, critical_value)\n\u001b[32m     35\u001b[39m \u001b[38;5;66;03m# Step 5: Conclusion\u001b[39;00m\n\u001b[32m---> \u001b[39m\u001b[32m36\u001b[39m \u001b[38;5;28;01mif\u001b[39;00m \u001b[43mchi2\u001b[49m\u001b[43m \u001b[49m\u001b[43m>\u001b[49m\u001b[43m \u001b[49m\u001b[43mcritical_value\u001b[49m:\n\u001b[32m     37\u001b[39m     \u001b[38;5;28mprint\u001b[39m(\u001b[33m'\u001b[39m\u001b[38;5;130;01m\\n\u001b[39;00m\u001b[33mConclusion: Reject the null hypothesis. There is a significant association.\u001b[39m\u001b[33m'\u001b[39m)\n\u001b[32m     38\u001b[39m \u001b[38;5;28;01melse\u001b[39;00m:\n",
      "\u001b[31mTypeError\u001b[39m: '<' not supported between instances of 'float' and 'chi2_gen'"
     ]
    }
   ],
   "source": [
    "\"\"# Chi-Square Test for Independence\n",
    "# Association between Device Type and Customer Satisfaction\n",
    "\n",
    "# Step 1: Import necessary libraries\n",
    "import pandas as pd\n",
    "from scipy.stats import chi2_contingency\n",
    "\n",
    "# Step 2: Create the contingency table\n",
    "data = {\n",
    "    'Smart Thermostat': [50, 80, 60, 30, 20],\n",
    "    'Smart Light': [70, 100, 90, 50, 50]\n",
    "}\n",
    "index = ['Very Satisfied', 'Satisfied', 'Neutral', 'Unsatisfied', 'Very Unsatisfied']\n",
    "contingency_table = pd.DataFrame(data, index=index)\n",
    "\n",
    "# Display the contingency table\n",
    "print('Contingency Table:')\n",
    "print(contingency_table)\n",
    "\n",
    "# Step 3: Perform the Chi-Square test\n",
    "chi2, p, dof, expected = chi2_contingency(contingency_table)\n",
    "\n",
    "# Display the results\n",
    "print('\\nChi-Square Statistic:', chi2)\n",
    "print('p-value:', p)\n",
    "print('Degrees of Freedom:', dof)\n",
    "print('\\nExpected Frequencies:')\n",
    "print(pd.DataFrame(expected, index=index, columns=['Smart Thermostat', 'Smart Light']))\n",
    "\n",
    "# Step 4: Determine the critical value at 0.05 significance level\n",
    "from scipy.stats import chi2\n",
    "critical_value = chi2.ppf(0.95, dof)\n",
    "print('\\nCritical Value at 0.05 significance level:', critical_value)\n",
    "\n",
    "# Step 5: Conclusion\n",
    "if chi2 > critical_value:\n",
    "    print('\\nConclusion: Reject the null hypothesis. There is a significant association.')\n",
    "else:\n",
    "    print('\\nConclusion: Fail to reject the null hypothesis. There is no significant association.')\n",
    "\"\"\n"
   ]
  }
 ],
 "metadata": {
  "kernelspec": {
   "display_name": "Python 3",
   "language": "python",
   "name": "python3"
  },
  "language_info": {
   "codemirror_mode": {
    "name": "ipython",
    "version": 3
   },
   "file_extension": ".py",
   "mimetype": "text/x-python",
   "name": "python",
   "nbconvert_exporter": "python",
   "pygments_lexer": "ipython3",
   "version": "3.13.3"
  }
 },
 "nbformat": 4,
 "nbformat_minor": 5
}
