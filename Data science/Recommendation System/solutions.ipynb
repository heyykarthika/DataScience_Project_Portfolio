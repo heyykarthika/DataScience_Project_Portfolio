{
 "cells": [
  {
   "cell_type": "code",
   "execution_count": 1,
   "id": "ced407ab",
   "metadata": {},
   "outputs": [],
   "source": [
    "import pandas as pd\n",
    "\n",
    "# Load the dataset\n",
    "df = pd.read_csv('anime.csv')"
   ]
  },
  {
   "cell_type": "code",
   "execution_count": 2,
   "id": "1597c0c1",
   "metadata": {},
   "outputs": [
    {
     "name": "stdout",
     "output_type": "stream",
     "text": [
      "   anime_id                              name  \\\n",
      "0     32281                    Kimi no Na wa.   \n",
      "1      5114  Fullmetal Alchemist: Brotherhood   \n",
      "2     28977                          Gintama°   \n",
      "3      9253                       Steins;Gate   \n",
      "4      9969                     Gintama&#039;   \n",
      "\n",
      "                                               genre   type episodes  rating  \\\n",
      "0               Drama, Romance, School, Supernatural  Movie        1    9.37   \n",
      "1  Action, Adventure, Drama, Fantasy, Magic, Mili...     TV       64    9.26   \n",
      "2  Action, Comedy, Historical, Parody, Samurai, S...     TV       51    9.25   \n",
      "3                                   Sci-Fi, Thriller     TV       24    9.17   \n",
      "4  Action, Comedy, Historical, Parody, Samurai, S...     TV       51    9.16   \n",
      "\n",
      "   members  \n",
      "0   200630  \n",
      "1   793665  \n",
      "2   114262  \n",
      "3   673572  \n",
      "4   151266  \n"
     ]
    }
   ],
   "source": [
    "# Display first few rows\n",
    "print(df.head())"
   ]
  },
  {
   "cell_type": "code",
   "execution_count": 3,
   "id": "e4a33d3d",
   "metadata": {},
   "outputs": [
    {
     "name": "stdout",
     "output_type": "stream",
     "text": [
      "anime_id      0\n",
      "name          0\n",
      "genre        62\n",
      "type         25\n",
      "episodes      0\n",
      "rating      230\n",
      "members       0\n",
      "dtype: int64\n"
     ]
    }
   ],
   "source": [
    "\n",
    "# Check for missing values\n",
    "print(df.isnull().sum())\n"
   ]
  },
  {
   "cell_type": "code",
   "execution_count": 4,
   "id": "d2c2d641",
   "metadata": {},
   "outputs": [
    {
     "name": "stdout",
     "output_type": "stream",
     "text": [
      "<class 'pandas.core.frame.DataFrame'>\n",
      "RangeIndex: 12294 entries, 0 to 12293\n",
      "Data columns (total 7 columns):\n",
      " #   Column    Non-Null Count  Dtype  \n",
      "---  ------    --------------  -----  \n",
      " 0   anime_id  12294 non-null  int64  \n",
      " 1   name      12294 non-null  object \n",
      " 2   genre     12232 non-null  object \n",
      " 3   type      12269 non-null  object \n",
      " 4   episodes  12294 non-null  object \n",
      " 5   rating    12064 non-null  float64\n",
      " 6   members   12294 non-null  int64  \n",
      "dtypes: float64(1), int64(2), object(4)\n",
      "memory usage: 672.5+ KB\n",
      "None\n"
     ]
    }
   ],
   "source": [
    "\n",
    "# Get basic info\n",
    "print(df.info())"
   ]
  },
  {
   "cell_type": "markdown",
   "id": "bd86edb8",
   "metadata": {},
   "source": [
    "We can see:\n",
    "\n",
    "genre has 62 missing values.\n",
    "\n",
    "type has 25 missing values.\n",
    "\n",
    "rating has 230 missing values.\n",
    "\n",
    "episodes column is of type object (string), probably because it contains 'Unknown' or similar.\n",
    "\n"
   ]
  },
  {
   "cell_type": "code",
   "execution_count": 5,
   "id": "42e1a7c4",
   "metadata": {},
   "outputs": [
    {
     "name": "stdout",
     "output_type": "stream",
     "text": [
      "anime_id    0\n",
      "name        0\n",
      "genre       0\n",
      "type        0\n",
      "episodes    0\n",
      "rating      0\n",
      "members     0\n",
      "dtype: int64\n"
     ]
    },
    {
     "name": "stderr",
     "output_type": "stream",
     "text": [
      "C:\\Users\\Admin\\AppData\\Local\\Temp\\ipykernel_4496\\321814903.py:2: FutureWarning: A value is trying to be set on a copy of a DataFrame or Series through chained assignment using an inplace method.\n",
      "The behavior will change in pandas 3.0. This inplace method will never work because the intermediate object on which we are setting values always behaves as a copy.\n",
      "\n",
      "For example, when doing 'df[col].method(value, inplace=True)', try using 'df.method({col: value}, inplace=True)' or df[col] = df[col].method(value) instead, to perform the operation inplace on the original object.\n",
      "\n",
      "\n",
      "  df['genre'].fillna('Unknown', inplace=True)\n",
      "C:\\Users\\Admin\\AppData\\Local\\Temp\\ipykernel_4496\\321814903.py:3: FutureWarning: A value is trying to be set on a copy of a DataFrame or Series through chained assignment using an inplace method.\n",
      "The behavior will change in pandas 3.0. This inplace method will never work because the intermediate object on which we are setting values always behaves as a copy.\n",
      "\n",
      "For example, when doing 'df[col].method(value, inplace=True)', try using 'df.method({col: value}, inplace=True)' or df[col] = df[col].method(value) instead, to perform the operation inplace on the original object.\n",
      "\n",
      "\n",
      "  df['type'].fillna('Unknown', inplace=True)\n",
      "C:\\Users\\Admin\\AppData\\Local\\Temp\\ipykernel_4496\\321814903.py:6: FutureWarning: A value is trying to be set on a copy of a DataFrame or Series through chained assignment using an inplace method.\n",
      "The behavior will change in pandas 3.0. This inplace method will never work because the intermediate object on which we are setting values always behaves as a copy.\n",
      "\n",
      "For example, when doing 'df[col].method(value, inplace=True)', try using 'df.method({col: value}, inplace=True)' or df[col] = df[col].method(value) instead, to perform the operation inplace on the original object.\n",
      "\n",
      "\n",
      "  df['rating'].fillna(df['rating'].mean(), inplace=True)\n"
     ]
    }
   ],
   "source": [
    "# Fill missing genre and type\n",
    "df['genre'].fillna('Unknown', inplace=True)\n",
    "df['type'].fillna('Unknown', inplace=True)\n",
    "\n",
    "# Fill missing ratings with mean rating\n",
    "df['rating'].fillna(df['rating'].mean(), inplace=True)\n",
    "\n",
    "# Replace 'Unknown' in episodes with 0, then convert to numeric\n",
    "df['episodes'] = df['episodes'].replace('Unknown', 0)\n",
    "df['episodes'] = pd.to_numeric(df['episodes'])\n",
    "\n",
    "# Check if any missing values left\n",
    "print(df.isnull().sum())\n"
   ]
  },
  {
   "cell_type": "code",
   "execution_count": 6,
   "id": "4bdb6179",
   "metadata": {},
   "outputs": [
    {
     "name": "stdout",
     "output_type": "stream",
     "text": [
      "   Action  Adventure  Cars  Comedy  Dementia  Demons  Drama  Ecchi  Fantasy  \\\n",
      "0       0          0     0       0         0       0      1      0        0   \n",
      "1       1          1     0       0         0       0      1      0        1   \n",
      "2       1          0     0       1         0       0      0      0        0   \n",
      "3       0          0     0       0         0       0      0      0        0   \n",
      "4       1          0     0       1         0       0      0      0        0   \n",
      "\n",
      "   Game  ...  Super Power  Supernatural  Thriller  Unknown  Vampire  Yaoi  \\\n",
      "0     0  ...            0             1         0        0        0     0   \n",
      "1     0  ...            0             0         0        0        0     0   \n",
      "2     0  ...            0             0         0        0        0     0   \n",
      "3     0  ...            0             0         1        0        0     0   \n",
      "4     0  ...            0             0         0        0        0     0   \n",
      "\n",
      "   Yuri  episodes    rating   members  \n",
      "0     0  0.000550  0.924370  0.197872  \n",
      "1     0  0.035204  0.911164  0.782770  \n",
      "2     0  0.028053  0.909964  0.112689  \n",
      "3     0  0.013201  0.900360  0.664325  \n",
      "4     0  0.028053  0.899160  0.149186  \n",
      "\n",
      "[5 rows x 47 columns]\n"
     ]
    }
   ],
   "source": [
    "from sklearn.preprocessing import MultiLabelBinarizer, MinMaxScaler\n",
    "\n",
    "# Split genres into lists\n",
    "df['genre_list'] = df['genre'].apply(lambda x: x.split(', '))\n",
    "\n",
    "# Multi-hot encode genres\n",
    "mlb = MultiLabelBinarizer()\n",
    "genre_encoded = mlb.fit_transform(df['genre_list'])\n",
    "genre_df = pd.DataFrame(genre_encoded, columns=mlb.classes_)\n",
    "\n",
    "# Select numerical features\n",
    "numerical_features = df[['episodes', 'rating', 'members']].copy()\n",
    "\n",
    "# Normalize numerical features\n",
    "scaler = MinMaxScaler()\n",
    "numerical_scaled = scaler.fit_transform(numerical_features)\n",
    "numerical_df = pd.DataFrame(numerical_scaled, columns=numerical_features.columns)\n",
    "\n",
    "# Combine genre and numerical features\n",
    "final_features = pd.concat([genre_df, numerical_df], axis=1)\n",
    "\n",
    "print(final_features.head())\n"
   ]
  },
  {
   "cell_type": "code",
   "execution_count": 8,
   "id": "edf4269c",
   "metadata": {},
   "outputs": [
    {
     "name": "stdout",
     "output_type": "stream",
     "text": [
      "['Naruto: Shippuuden', 'Naruto: Shippuuden Movie 4 - The Lost Tower', 'Naruto: Shippuuden Movie 3 - Hi no Ishi wo Tsugu Mono', 'Boruto: Naruto the Movie', 'Naruto x UT']\n"
     ]
    }
   ],
   "source": [
    "from sklearn.metrics.pairwise import cosine_similarity\n",
    "\n",
    "# Compute cosine similarity matrix\n",
    "cosine_sim_matrix = cosine_similarity(final_features)\n",
    "\n",
    "# Build a reverse mapping from anime name to index\n",
    "indices = pd.Series(df.index, index=df['name']).drop_duplicates()\n",
    "\n",
    "def recommend_anime(title, top_n=5):\n",
    "    if title not in indices:\n",
    "        return \"Anime not found in the dataset.\"\n",
    "    \n",
    "    idx = indices[title]\n",
    "    \n",
    "    # Get pairwise similarity scores for this anime\n",
    "    sim_scores = list(enumerate(cosine_sim_matrix[idx]))\n",
    "    \n",
    "    # Sort by similarity score in descending order\n",
    "    sim_scores = sorted(sim_scores, key=lambda x: x[1], reverse=True)\n",
    "    \n",
    "    # Get the scores of the top_n most similar anime (excluding itself)\n",
    "    sim_scores = sim_scores[1:top_n+1]\n",
    "    \n",
    "    # Get the indices of these anime\n",
    "    anime_indices = [i[0] for i in sim_scores]\n",
    "    \n",
    "    # Return the titles\n",
    "    return df['name'].iloc[anime_indices].tolist()\n",
    "\n",
    "# Example usage\n",
    "print(recommend_anime('Naruto', top_n=5))\n"
   ]
  },
  {
   "cell_type": "code",
   "execution_count": 11,
   "id": "918a1566",
   "metadata": {},
   "outputs": [
    {
     "name": "stdout",
     "output_type": "stream",
     "text": [
      "Approximate Precision@5: 1.00\n"
     ]
    }
   ],
   "source": [
    "def evaluate_recommendations(df_eval, top_n=5):\n",
    "    match_counts = 0\n",
    "    total = 0\n",
    "\n",
    "    for title in df_eval['name'].head(20):  # Evaluate on first 20 as example\n",
    "        recommended = recommend_anime(title, top_n=top_n)\n",
    "        if isinstance(recommended, str):\n",
    "            continue\n",
    "\n",
    "        # Get genres of original anime\n",
    "        original_row = df[df['name'] == title]\n",
    "        if original_row.empty:\n",
    "            continue\n",
    "        original_genres = set(original_row['genre'].iloc[0].split(', '))\n",
    "\n",
    "        for rec_title in recommended:\n",
    "            rec_row = df[df['name'] == rec_title]\n",
    "            if rec_row.empty:\n",
    "                continue\n",
    "            rec_genres = set(rec_row['genre'].iloc[0].split(', '))\n",
    "\n",
    "            # Count if they share at least one genre\n",
    "            if original_genres & rec_genres:\n",
    "                match_counts += 1\n",
    "\n",
    "        total += top_n\n",
    "\n",
    "    precision_at_k = match_counts / total if total > 0 else 0\n",
    "    return precision_at_k\n",
    "\n",
    "# Example evaluation\n",
    "print(f\"Approximate Precision@5: {evaluate_recommendations(test_df, top_n=5):.2f}\")\n"
   ]
  },
  {
   "cell_type": "markdown",
   "id": "edb088ae",
   "metadata": {},
   "source": [
    "# Collaborative Filtering – Key Interview Points  \n",
    "\n",
    "---\n",
    "\n",
    "## 1. Difference Between **User‑Based** and **Item‑Based** Collaborative Filtering  \n",
    "\n",
    "| Feature | User‑Based CF | Item‑Based CF |\n",
    "|---------|---------------|---------------|\n",
    "| **What it searches for** | Users whose historical interactions are similar to the target user | Items that receive similar interaction patterns to the items the target user already likes |\n",
    "| **Core idea** | “People who behave like you also liked … ” | “Items similar to what you liked … ” |\n",
    "| **Similarity computed between** | Users (rows in the user‑item matrix) | Items (columns in the user‑item matrix) |\n",
    "| **Prediction step** | Aggregate ratings from nearest‑neighbor users for an unseen item | Aggregate ratings of similar items already rated by the user |\n",
    "| **Typical pros** | Can capture complex taste profiles | More stable when user base is large; easier to cache similarity matrix |\n",
    "| **Typical cons** | Scalability drops as users ↑; cold‑start for new users | Struggles with brand‑new items; assumes item similarity is stable |\n",
    "\n",
    "---\n",
    "\n",
    "## 2. What Is Collaborative Filtering, and How Does It Work?  \n",
    "\n",
    "1. **Collect interaction data** – e.g. ratings, purchases, clicks.  \n",
    "2. **Construct a user‑item matrix** – rows = users, columns = items, cells = interactions.  \n",
    "3. **Measure similarity** – cosine, Pearson, Jaccard, etc., either **between users** or **between items**.  \n",
    "4. **Predict unknown interactions** – use weighted average from nearest neighbors.  \n",
    "5. **Recommend** – rank the top‑N highest predicted items the user has not yet seen.  \n",
    "\n",
    "*Variants*  \n",
    "- **Memory‑based** (nearest‑neighbor as above).  \n",
    "- **Model‑based** (matrix factorization, neural CF, factorization machines).  \n",
    "\n",
    "---\n"
   ]
  }
 ],
 "metadata": {
  "kernelspec": {
   "display_name": "Python 3",
   "language": "python",
   "name": "python3"
  },
  "language_info": {
   "codemirror_mode": {
    "name": "ipython",
    "version": 3
   },
   "file_extension": ".py",
   "mimetype": "text/x-python",
   "name": "python",
   "nbconvert_exporter": "python",
   "pygments_lexer": "ipython3",
   "version": "3.13.3"
  }
 },
 "nbformat": 4,
 "nbformat_minor": 5
}
